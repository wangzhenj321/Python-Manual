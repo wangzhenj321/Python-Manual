{
  "nbformat": 4,
  "nbformat_minor": 0,
  "metadata": {
    "kernelspec": {
      "display_name": "Python 3",
      "language": "python",
      "name": "python3"
    },
    "language_info": {
      "codemirror_mode": {
        "name": "ipython",
        "version": 3
      },
      "file_extension": ".py",
      "mimetype": "text/x-python",
      "name": "python",
      "nbconvert_exporter": "python",
      "pygments_lexer": "ipython3",
      "version": "3.7.3"
    },
    "toc": {
      "base_numbering": 1,
      "nav_menu": {},
      "number_sections": false,
      "sideBar": true,
      "skip_h1_title": false,
      "title_cell": "Table of Contents",
      "title_sidebar": "Contents",
      "toc_cell": false,
      "toc_position": {},
      "toc_section_display": true,
      "toc_window_display": true
    },
    "colab": {
      "name": "datetime.ipynb",
      "provenance": [],
      "toc_visible": true
    }
  },
  "cells": [
    {
      "cell_type": "markdown",
      "metadata": {
        "id": "nhf0Nn90vbAz",
        "colab_type": "text"
      },
      "source": [
        "There are two kinds of date and time objects: “naive” and “aware”.\n",
        "\n",
        "The `datetime` module exports the following constants:\n",
        "\n",
        "- `datetime.MINYEAR`\n",
        "- `datetime.MAXYEAR`"
      ]
    },
    {
      "cell_type": "code",
      "metadata": {
        "id": "luhGmpN6vbA1",
        "colab_type": "code",
        "colab": {}
      },
      "source": [
        "import datetime"
      ],
      "execution_count": 0,
      "outputs": []
    },
    {
      "cell_type": "code",
      "metadata": {
        "id": "_VIXfTVLvbA4",
        "colab_type": "code",
        "colab": {
          "base_uri": "https://localhost:8080/",
          "height": 51
        },
        "outputId": "0ce61829-bae1-453f-8a57-42c81844423e"
      },
      "source": [
        "print(datetime.MINYEAR)\n",
        "print(datetime.MAXYEAR)"
      ],
      "execution_count": 2,
      "outputs": [
        {
          "output_type": "stream",
          "text": [
            "1\n",
            "9999\n"
          ],
          "name": "stdout"
        }
      ]
    },
    {
      "cell_type": "markdown",
      "metadata": {
        "id": "Cu81IOiBvbA7",
        "colab_type": "text"
      },
      "source": [
        "## `timedelta` Objects"
      ]
    },
    {
      "cell_type": "markdown",
      "metadata": {
        "id": "-nLQTwoQwA_Z",
        "colab_type": "text"
      },
      "source": [
        "## `date` Objects"
      ]
    },
    {
      "cell_type": "markdown",
      "metadata": {
        "id": "m48Ljo0OxIs7",
        "colab_type": "text"
      },
      "source": [
        "## `datetime` Objects"
      ]
    },
    {
      "cell_type": "code",
      "metadata": {
        "id": "DCT_U1TtvbA_",
        "colab_type": "code",
        "colab": {}
      },
      "source": [
        "from datetime import datetime"
      ],
      "execution_count": 0,
      "outputs": []
    },
    {
      "cell_type": "code",
      "metadata": {
        "id": "b2Ib8xn_xP44",
        "colab_type": "code",
        "colab": {}
      },
      "source": [
        ""
      ],
      "execution_count": 0,
      "outputs": []
    }
  ]
}